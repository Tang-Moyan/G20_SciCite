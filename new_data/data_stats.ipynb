{
 "cells": [
  {
   "cell_type": "code",
   "execution_count": 1,
   "id": "7977a493-3aaa-4f17-844a-b5409bcce855",
   "metadata": {},
   "outputs": [],
   "source": [
    "import pandas as pd\n",
    "import numpy as np\n",
    "import matplotlib.pyplot as plt"
   ]
  },
  {
   "cell_type": "code",
   "execution_count": 4,
   "id": "e5559597-df05-478e-9b7d-b804cbfdb8f2",
   "metadata": {},
   "outputs": [],
   "source": [
    "sentiment_df = pd.read_csv('overall_sentiment_train.csv')\n"
   ]
  },
  {
   "cell_type": "code",
   "execution_count": 8,
   "id": "f0c19407-d5c4-47ab-b3f8-34749887d8d6",
   "metadata": {},
   "outputs": [
    {
     "name": "stdout",
     "output_type": "stream",
     "text": [
      "label       sentiment_word\n",
      "background  Positive          2101\n",
      "            Neutral           1661\n",
      "            Negative          1078\n",
      "method      Neutral            947\n",
      "            Positive           767\n",
      "            Negative           580\n",
      "result      Positive           561\n",
      "            Negative           337\n",
      "            Neutral            211\n",
      "Name: count, dtype: int64\n"
     ]
    }
   ],
   "source": [
    "label_counts = sentiment_df.groupby('label')['sentiment_word'].value_counts()\n",
    "print(label_counts)"
   ]
  },
  {
   "cell_type": "code",
   "execution_count": 12,
   "id": "55d3b8c0-bd8a-4f6a-a73e-8cce34c54a03",
   "metadata": {},
   "outputs": [
    {
     "name": "stdout",
     "output_type": "stream",
     "text": [
      "sentiment_word\n",
      "Positive    3429\n",
      "Neutral     2819\n",
      "Negative    1995\n",
      "Name: count, dtype: int64\n"
     ]
    }
   ],
   "source": [
    "label_counts = sentiment_df['sentiment_word'].value_counts()\n",
    "print(label_counts)"
   ]
  },
  {
   "cell_type": "code",
   "execution_count": 9,
   "id": "994cc0fb-a59d-4976-9308-96bfbaeba3b5",
   "metadata": {},
   "outputs": [],
   "source": [
    "length_df = pd.read_csv('overall_len_train.csv')"
   ]
  },
  {
   "cell_type": "code",
   "execution_count": 10,
   "id": "ffde4ff5-e712-43ac-bcbe-3a6a8bc1e78b",
   "metadata": {},
   "outputs": [
    {
     "name": "stdout",
     "output_type": "stream",
     "text": [
      "label       length\n",
      "background  Short     1678\n",
      "            Medium    1587\n",
      "            Long      1575\n",
      "method      Short      867\n",
      "            Medium     770\n",
      "            Long       657\n",
      "result      Medium     427\n",
      "            Long       415\n",
      "            Short      267\n",
      "Name: count, dtype: int64\n"
     ]
    }
   ],
   "source": [
    "label_counts = length_df.groupby('label')['length'].value_counts()\n",
    "print(label_counts)"
   ]
  },
  {
   "cell_type": "code",
   "execution_count": 11,
   "id": "a61a1bb3-93a9-4701-a6e8-c1ae76549ee6",
   "metadata": {},
   "outputs": [
    {
     "name": "stdout",
     "output_type": "stream",
     "text": [
      "length\n",
      "Short     2812\n",
      "Medium    2784\n",
      "Long      2647\n",
      "Name: count, dtype: int64\n"
     ]
    }
   ],
   "source": [
    "label_counts = length_df['length'].value_counts()\n",
    "print(label_counts)"
   ]
  },
  {
   "cell_type": "code",
   "execution_count": 15,
   "id": "1b3c840a-214e-4bff-97da-4846ec208ce5",
   "metadata": {},
   "outputs": [],
   "source": [
    "random_del_df = pd.read_csv('rand_del_train.csv')"
   ]
  },
  {
   "cell_type": "code",
   "execution_count": 16,
   "id": "4fb97964-7b8f-414f-8ffe-0464988df4dc",
   "metadata": {},
   "outputs": [
    {
     "name": "stdout",
     "output_type": "stream",
     "text": [
      "label\n",
      "background    4840\n",
      "method        4588\n",
      "result        4436\n",
      "Name: count, dtype: int64\n"
     ]
    }
   ],
   "source": [
    "label_counts = random_del_df['label'].value_counts()\n",
    "print(label_counts)"
   ]
  },
  {
   "cell_type": "code",
   "execution_count": 17,
   "id": "b40ab5ee-e4bb-4be3-b5c3-c44da8c23dd6",
   "metadata": {},
   "outputs": [],
   "source": [
    "random_insert_df = pd.read_csv('rand_insert_train.csv')"
   ]
  },
  {
   "cell_type": "code",
   "execution_count": 18,
   "id": "832b5f81-5b18-48f0-8a92-55b21d9525a7",
   "metadata": {},
   "outputs": [
    {
     "name": "stdout",
     "output_type": "stream",
     "text": [
      "label\n",
      "background    4840\n",
      "method        4588\n",
      "result        4436\n",
      "Name: count, dtype: int64\n"
     ]
    }
   ],
   "source": [
    "label_counts = random_insert_df['label'].value_counts()\n",
    "print(label_counts)"
   ]
  },
  {
   "cell_type": "code",
   "execution_count": 19,
   "id": "b98cc638-9f93-488f-932c-7dd306d2ee3f",
   "metadata": {},
   "outputs": [],
   "source": [
    "random_replace_df = pd.read_csv('rand_replace_train.csv')"
   ]
  },
  {
   "cell_type": "code",
   "execution_count": 20,
   "id": "45207e8b-dc22-41d8-9dce-1dd50c6df6b0",
   "metadata": {},
   "outputs": [
    {
     "name": "stdout",
     "output_type": "stream",
     "text": [
      "label\n",
      "background    4840\n",
      "method        4588\n",
      "result        4436\n",
      "Name: count, dtype: int64\n"
     ]
    }
   ],
   "source": [
    "label_counts = random_replace_df['label'].value_counts()\n",
    "print(label_counts)"
   ]
  },
  {
   "cell_type": "code",
   "execution_count": 21,
   "id": "e6a217e9-9d8e-4bc4-b057-5df419dde584",
   "metadata": {},
   "outputs": [],
   "source": [
    "translate_df = pd.read_csv('translate_train.csv')"
   ]
  },
  {
   "cell_type": "code",
   "execution_count": 22,
   "id": "dddd65c3-a95c-4227-a507-8ff05942d977",
   "metadata": {},
   "outputs": [
    {
     "name": "stdout",
     "output_type": "stream",
     "text": [
      "label\n",
      "background    4840\n",
      "method        4588\n",
      "result        1109\n",
      "Name: count, dtype: int64\n"
     ]
    }
   ],
   "source": [
    "label_counts = translate_df['label'].value_counts()\n",
    "print(label_counts)"
   ]
  },
  {
   "cell_type": "code",
   "execution_count": null,
   "id": "b9989474-9728-4199-a3ea-b3f8e4961db4",
   "metadata": {},
   "outputs": [],
   "source": []
  }
 ],
 "metadata": {
  "kernelspec": {
   "display_name": "Python 3 (ipykernel)",
   "language": "python",
   "name": "python3"
  },
  "language_info": {
   "codemirror_mode": {
    "name": "ipython",
    "version": 3
   },
   "file_extension": ".py",
   "mimetype": "text/x-python",
   "name": "python",
   "nbconvert_exporter": "python",
   "pygments_lexer": "ipython3",
   "version": "3.11.3"
  }
 },
 "nbformat": 4,
 "nbformat_minor": 5
}
